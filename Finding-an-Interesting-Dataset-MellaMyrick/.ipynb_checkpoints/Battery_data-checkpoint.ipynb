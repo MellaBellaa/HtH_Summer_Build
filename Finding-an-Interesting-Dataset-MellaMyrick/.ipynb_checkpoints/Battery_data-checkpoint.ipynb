{
 "cells": [
  {
   "cell_type": "markdown",
   "id": "3a9c54f4",
   "metadata": {},
   "source": [
    "# Why are you interested in this dataset?\n",
    "\n",
    "Battery remaining useful life (RUL) represents the remaining life until the end of life in a car battery. It is used to determine the battery health. I am interested in this particular dataset because I enjoy working on cars and am curious to know what contributes to the EOL (end of life) of the engine. After doing some research, I determined that the factors I should be examining are Cycle Index, Discharge Time (s), Charging Time (s), and RUL because battery life is mainly determined by cycles. And, cycles are defined as the time between charge and discharge according to [CED Greentech](https://www.cedgreentech.com/article/battery-life-and-performance-factors).\n",
    "\n",
    "---\n",
    "\n",
    "This dataset came from [this kaggle link](https://www.kaggle.com/datasets/ignaciovinuales/battery-remaining-useful-life-rul). \"Battery Remaining Useful Life (RUL). The Hawaii Natural Energy Institute examined 14 NMC-LCO 18650 batteries with a nominal capacity of 2.8 Ah, which were cycled over 1000 times at 25°C with a CC-CV charge rate of C/2 rate and discharge rate of 1.5C.\n",
    "\n",
    "From that source dataset, I created features that showcase the voltage and current behaviour over each cycle. Those features can be used to predict the remaining useful life (RUL) of the batteries.\""
   ]
  },
  {
   "cell_type": "markdown",
   "id": "d6972be3",
   "metadata": {},
   "source": [
    "# What are 10 (or more) questions that you hope to answer through your data analysis?\n",
    "\n",
    "No. | Question\n",
    ":-:|:-\n",
    "\n",
    "1 | What is the maximum battery cycle?\n",
    "2 | What is the average discharge time?\n",
    "3 | What is the average charge time?\n",
    "4 | Which variable has a positive correlation to remaining useful life?\n",
    "5 | What type of correlation does charging time and discharge time have?\n",
    "6 | At what cycle does the RUL decrease?\n",
    "7 | Out of the 14 batteries, which one had the best RUL?\n",
    "8 | What is the average max voltage discharge?\n",
    "9 | What is the average minimun voltage charge?\n",
    "10 | What type of regression does the data have?"
   ]
  },
  {
   "cell_type": "code",
   "execution_count": 71,
   "id": "5853fc42",
   "metadata": {
    "scrolled": true
   },
   "outputs": [
    {
     "data": {
      "text/html": [
       "<div>\n",
       "<style scoped>\n",
       "    .dataframe tbody tr th:only-of-type {\n",
       "        vertical-align: middle;\n",
       "    }\n",
       "\n",
       "    .dataframe tbody tr th {\n",
       "        vertical-align: top;\n",
       "    }\n",
       "\n",
       "    .dataframe thead th {\n",
       "        text-align: right;\n",
       "    }\n",
       "</style>\n",
       "<table border=\"1\" class=\"dataframe\">\n",
       "  <thead>\n",
       "    <tr style=\"text-align: right;\">\n",
       "      <th></th>\n",
       "      <th>Cycle_Index</th>\n",
       "      <th>Discharge Time (s)</th>\n",
       "      <th>Decrement 3.6-3.4V (s)</th>\n",
       "      <th>Max. Voltage Dischar. (V)</th>\n",
       "      <th>Min. Voltage Charg. (V)</th>\n",
       "      <th>Time at 4.15V (s)</th>\n",
       "      <th>Time constant current (s)</th>\n",
       "      <th>Charging time (s)</th>\n",
       "      <th>RUL</th>\n",
       "    </tr>\n",
       "  </thead>\n",
       "  <tbody>\n",
       "    <tr>\n",
       "      <th>0</th>\n",
       "      <td>1.0</td>\n",
       "      <td>2595.30</td>\n",
       "      <td>1151.488500</td>\n",
       "      <td>3.670</td>\n",
       "      <td>3.211</td>\n",
       "      <td>5460.001</td>\n",
       "      <td>6755.01</td>\n",
       "      <td>10777.82</td>\n",
       "      <td>1112</td>\n",
       "    </tr>\n",
       "    <tr>\n",
       "      <th>1</th>\n",
       "      <td>2.0</td>\n",
       "      <td>7408.64</td>\n",
       "      <td>1172.512500</td>\n",
       "      <td>4.246</td>\n",
       "      <td>3.220</td>\n",
       "      <td>5508.992</td>\n",
       "      <td>6762.02</td>\n",
       "      <td>10500.35</td>\n",
       "      <td>1111</td>\n",
       "    </tr>\n",
       "    <tr>\n",
       "      <th>2</th>\n",
       "      <td>3.0</td>\n",
       "      <td>7393.76</td>\n",
       "      <td>1112.992000</td>\n",
       "      <td>4.249</td>\n",
       "      <td>3.224</td>\n",
       "      <td>5508.993</td>\n",
       "      <td>6762.02</td>\n",
       "      <td>10420.38</td>\n",
       "      <td>1110</td>\n",
       "    </tr>\n",
       "    <tr>\n",
       "      <th>3</th>\n",
       "      <td>4.0</td>\n",
       "      <td>7385.50</td>\n",
       "      <td>1080.320667</td>\n",
       "      <td>4.250</td>\n",
       "      <td>3.225</td>\n",
       "      <td>5502.016</td>\n",
       "      <td>6762.02</td>\n",
       "      <td>10322.81</td>\n",
       "      <td>1109</td>\n",
       "    </tr>\n",
       "    <tr>\n",
       "      <th>4</th>\n",
       "      <td>6.0</td>\n",
       "      <td>65022.75</td>\n",
       "      <td>29813.487000</td>\n",
       "      <td>4.290</td>\n",
       "      <td>3.398</td>\n",
       "      <td>5480.992</td>\n",
       "      <td>53213.54</td>\n",
       "      <td>56699.65</td>\n",
       "      <td>1107</td>\n",
       "    </tr>\n",
       "    <tr>\n",
       "      <th>...</th>\n",
       "      <td>...</td>\n",
       "      <td>...</td>\n",
       "      <td>...</td>\n",
       "      <td>...</td>\n",
       "      <td>...</td>\n",
       "      <td>...</td>\n",
       "      <td>...</td>\n",
       "      <td>...</td>\n",
       "      <td>...</td>\n",
       "    </tr>\n",
       "    <tr>\n",
       "      <th>15059</th>\n",
       "      <td>1108.0</td>\n",
       "      <td>770.44</td>\n",
       "      <td>179.523810</td>\n",
       "      <td>3.773</td>\n",
       "      <td>3.742</td>\n",
       "      <td>922.775</td>\n",
       "      <td>1412.38</td>\n",
       "      <td>6678.88</td>\n",
       "      <td>4</td>\n",
       "    </tr>\n",
       "    <tr>\n",
       "      <th>15060</th>\n",
       "      <td>1109.0</td>\n",
       "      <td>771.12</td>\n",
       "      <td>179.523810</td>\n",
       "      <td>3.773</td>\n",
       "      <td>3.744</td>\n",
       "      <td>915.512</td>\n",
       "      <td>1412.31</td>\n",
       "      <td>6670.38</td>\n",
       "      <td>3</td>\n",
       "    </tr>\n",
       "    <tr>\n",
       "      <th>15061</th>\n",
       "      <td>1110.0</td>\n",
       "      <td>769.12</td>\n",
       "      <td>179.357143</td>\n",
       "      <td>3.773</td>\n",
       "      <td>3.742</td>\n",
       "      <td>915.513</td>\n",
       "      <td>1412.31</td>\n",
       "      <td>6637.12</td>\n",
       "      <td>2</td>\n",
       "    </tr>\n",
       "    <tr>\n",
       "      <th>15062</th>\n",
       "      <td>1111.0</td>\n",
       "      <td>773.88</td>\n",
       "      <td>162.374667</td>\n",
       "      <td>3.763</td>\n",
       "      <td>3.839</td>\n",
       "      <td>539.375</td>\n",
       "      <td>1148.00</td>\n",
       "      <td>7660.62</td>\n",
       "      <td>1</td>\n",
       "    </tr>\n",
       "    <tr>\n",
       "      <th>15063</th>\n",
       "      <td>1112.0</td>\n",
       "      <td>677537.27</td>\n",
       "      <td>142740.640000</td>\n",
       "      <td>4.206</td>\n",
       "      <td>3.305</td>\n",
       "      <td>49680.004</td>\n",
       "      <td>599830.14</td>\n",
       "      <td>599830.14</td>\n",
       "      <td>0</td>\n",
       "    </tr>\n",
       "  </tbody>\n",
       "</table>\n",
       "<p>15064 rows × 9 columns</p>\n",
       "</div>"
      ],
      "text/plain": [
       "       Cycle_Index  Discharge Time (s)  Decrement 3.6-3.4V (s)  \\\n",
       "0              1.0             2595.30             1151.488500   \n",
       "1              2.0             7408.64             1172.512500   \n",
       "2              3.0             7393.76             1112.992000   \n",
       "3              4.0             7385.50             1080.320667   \n",
       "4              6.0            65022.75            29813.487000   \n",
       "...            ...                 ...                     ...   \n",
       "15059       1108.0              770.44              179.523810   \n",
       "15060       1109.0              771.12              179.523810   \n",
       "15061       1110.0              769.12              179.357143   \n",
       "15062       1111.0              773.88              162.374667   \n",
       "15063       1112.0           677537.27           142740.640000   \n",
       "\n",
       "       Max. Voltage Dischar. (V)  Min. Voltage Charg. (V)  Time at 4.15V (s)  \\\n",
       "0                          3.670                    3.211           5460.001   \n",
       "1                          4.246                    3.220           5508.992   \n",
       "2                          4.249                    3.224           5508.993   \n",
       "3                          4.250                    3.225           5502.016   \n",
       "4                          4.290                    3.398           5480.992   \n",
       "...                          ...                      ...                ...   \n",
       "15059                      3.773                    3.742            922.775   \n",
       "15060                      3.773                    3.744            915.512   \n",
       "15061                      3.773                    3.742            915.513   \n",
       "15062                      3.763                    3.839            539.375   \n",
       "15063                      4.206                    3.305          49680.004   \n",
       "\n",
       "       Time constant current (s)  Charging time (s)   RUL  \n",
       "0                        6755.01           10777.82  1112  \n",
       "1                        6762.02           10500.35  1111  \n",
       "2                        6762.02           10420.38  1110  \n",
       "3                        6762.02           10322.81  1109  \n",
       "4                       53213.54           56699.65  1107  \n",
       "...                          ...                ...   ...  \n",
       "15059                    1412.38            6678.88     4  \n",
       "15060                    1412.31            6670.38     3  \n",
       "15061                    1412.31            6637.12     2  \n",
       "15062                    1148.00            7660.62     1  \n",
       "15063                  599830.14          599830.14     0  \n",
       "\n",
       "[15064 rows x 9 columns]"
      ]
     },
     "execution_count": 71,
     "metadata": {},
     "output_type": "execute_result"
    }
   ],
   "source": [
    "import pandas as pd\n",
    "import seaborn as sns\n",
    "\n",
    "#pd.options.display.max_columns = None\n",
    "#pd.options.display.max_rows = None\n",
    "\n",
    "#raw data\n",
    "battery_life_data = pd.read_csv(\"Battery_RUL.csv\")\n",
    "battery_life_data"
   ]
  },
  {
   "cell_type": "code",
   "execution_count": 66,
   "id": "113dced5",
   "metadata": {},
   "outputs": [
    {
     "data": {
      "text/html": [
       "<div>\n",
       "<style scoped>\n",
       "    .dataframe tbody tr th:only-of-type {\n",
       "        vertical-align: middle;\n",
       "    }\n",
       "\n",
       "    .dataframe tbody tr th {\n",
       "        vertical-align: top;\n",
       "    }\n",
       "\n",
       "    .dataframe thead th {\n",
       "        text-align: right;\n",
       "    }\n",
       "</style>\n",
       "<table border=\"1\" class=\"dataframe\">\n",
       "  <thead>\n",
       "    <tr style=\"text-align: right;\">\n",
       "      <th></th>\n",
       "      <th>Cycle_Index</th>\n",
       "      <th>Discharge Time (s)</th>\n",
       "      <th>Charging time (s)</th>\n",
       "      <th>RUL</th>\n",
       "    </tr>\n",
       "  </thead>\n",
       "  <tbody>\n",
       "    <tr>\n",
       "      <th>0</th>\n",
       "      <td>1.0</td>\n",
       "      <td>2595.30</td>\n",
       "      <td>10777.82</td>\n",
       "      <td>1112</td>\n",
       "    </tr>\n",
       "    <tr>\n",
       "      <th>1</th>\n",
       "      <td>2.0</td>\n",
       "      <td>7408.64</td>\n",
       "      <td>10500.35</td>\n",
       "      <td>1111</td>\n",
       "    </tr>\n",
       "    <tr>\n",
       "      <th>2</th>\n",
       "      <td>3.0</td>\n",
       "      <td>7393.76</td>\n",
       "      <td>10420.38</td>\n",
       "      <td>1110</td>\n",
       "    </tr>\n",
       "    <tr>\n",
       "      <th>3</th>\n",
       "      <td>4.0</td>\n",
       "      <td>7385.50</td>\n",
       "      <td>10322.81</td>\n",
       "      <td>1109</td>\n",
       "    </tr>\n",
       "    <tr>\n",
       "      <th>4</th>\n",
       "      <td>6.0</td>\n",
       "      <td>65022.75</td>\n",
       "      <td>56699.65</td>\n",
       "      <td>1107</td>\n",
       "    </tr>\n",
       "    <tr>\n",
       "      <th>...</th>\n",
       "      <td>...</td>\n",
       "      <td>...</td>\n",
       "      <td>...</td>\n",
       "      <td>...</td>\n",
       "    </tr>\n",
       "    <tr>\n",
       "      <th>15059</th>\n",
       "      <td>1108.0</td>\n",
       "      <td>770.44</td>\n",
       "      <td>6678.88</td>\n",
       "      <td>4</td>\n",
       "    </tr>\n",
       "    <tr>\n",
       "      <th>15060</th>\n",
       "      <td>1109.0</td>\n",
       "      <td>771.12</td>\n",
       "      <td>6670.38</td>\n",
       "      <td>3</td>\n",
       "    </tr>\n",
       "    <tr>\n",
       "      <th>15061</th>\n",
       "      <td>1110.0</td>\n",
       "      <td>769.12</td>\n",
       "      <td>6637.12</td>\n",
       "      <td>2</td>\n",
       "    </tr>\n",
       "    <tr>\n",
       "      <th>15062</th>\n",
       "      <td>1111.0</td>\n",
       "      <td>773.88</td>\n",
       "      <td>7660.62</td>\n",
       "      <td>1</td>\n",
       "    </tr>\n",
       "    <tr>\n",
       "      <th>15063</th>\n",
       "      <td>1112.0</td>\n",
       "      <td>677537.27</td>\n",
       "      <td>599830.14</td>\n",
       "      <td>0</td>\n",
       "    </tr>\n",
       "  </tbody>\n",
       "</table>\n",
       "<p>15064 rows × 4 columns</p>\n",
       "</div>"
      ],
      "text/plain": [
       "       Cycle_Index  Discharge Time (s)  Charging time (s)   RUL\n",
       "0              1.0             2595.30           10777.82  1112\n",
       "1              2.0             7408.64           10500.35  1111\n",
       "2              3.0             7393.76           10420.38  1110\n",
       "3              4.0             7385.50           10322.81  1109\n",
       "4              6.0            65022.75           56699.65  1107\n",
       "...            ...                 ...                ...   ...\n",
       "15059       1108.0              770.44            6678.88     4\n",
       "15060       1109.0              771.12            6670.38     3\n",
       "15061       1110.0              769.12            6637.12     2\n",
       "15062       1111.0              773.88            7660.62     1\n",
       "15063       1112.0           677537.27          599830.14     0\n",
       "\n",
       "[15064 rows x 4 columns]"
      ]
     },
     "execution_count": 66,
     "metadata": {},
     "output_type": "execute_result"
    }
   ],
   "source": [
    "#Trimmed data\n",
    "updated_data = battery_life_data[['Cycle_Index', 'Discharge Time (s)', 'Charging time (s)', 'RUL']]\n",
    "updated_data"
   ]
  },
  {
   "cell_type": "code",
   "execution_count": 3,
   "id": "cb253f4c",
   "metadata": {},
   "outputs": [],
   "source": [
    "# Answering question 1: What is the maximum battery cycle?"
   ]
  },
  {
   "cell_type": "code",
   "execution_count": 70,
   "id": "01a7b61b",
   "metadata": {},
   "outputs": [
    {
     "name": "stdout",
     "output_type": "stream",
     "text": [
      "1134.0\n"
     ]
    }
   ],
   "source": [
    "max_battery_cycle = battery_life_data['Cycle_Index'].max()\n",
    "print(max_battery_cycle.round(3))"
   ]
  },
  {
   "cell_type": "code",
   "execution_count": 3,
   "id": "9ae60011",
   "metadata": {},
   "outputs": [],
   "source": [
    "# Answering question 2: What is the average discharge time? "
   ]
  },
  {
   "cell_type": "code",
   "execution_count": 36,
   "id": "c464e1f6",
   "metadata": {},
   "outputs": [
    {
     "name": "stdout",
     "output_type": "stream",
     "text": [
      "4581.274\n"
     ]
    }
   ],
   "source": [
    "avg_discharge_time = battery_life_data['Discharge Time (s)'].mean()\n",
    "print(avg_discharge_time.round(3))"
   ]
  },
  {
   "cell_type": "code",
   "execution_count": 10,
   "id": "60a367f4",
   "metadata": {},
   "outputs": [],
   "source": [
    "# Answering question 3: What is the average charge time?"
   ]
  },
  {
   "cell_type": "code",
   "execution_count": 34,
   "id": "34fa8d1b",
   "metadata": {
    "scrolled": true
   },
   "outputs": [
    {
     "name": "stdout",
     "output_type": "stream",
     "text": [
      "10066.496\n"
     ]
    }
   ],
   "source": [
    "avg_charge_time = battery_life_data['Charging time (s)'].mean()\n",
    "print(avg_charge_time.round(3))"
   ]
  },
  {
   "cell_type": "code",
   "execution_count": 88,
   "id": "1764fe29",
   "metadata": {},
   "outputs": [
    {
     "name": "stdout",
     "output_type": "stream",
     "text": [
      "Out of the 4 variables, no variable has a positive correlation to remaining useful life. However, it appears that there is a negative linear correlation between RUL and Cycle Index.\n"
     ]
    },
    {
     "data": {
      "image/png": "[encoded data removed]",
      "text/plain": [
       "<Figure size 720x720 with 20 Axes>"
      ]
     },
     "metadata": {
      "needs_background": "light"
     },
     "output_type": "display_data"
    }
   ],
   "source": [
    "# Answering question 4: Which variable has a positive correlation to remaining useful life?\n",
    "\n",
    "#Cycle Index and RUL\n",
    "sns.pairplot(updated_data)\n",
    "\n",
    "print(\"Out of the 4 variables, no variable has a positive correlation to remaining useful life. However, it appears that there is a negative linear correlation between RUL and Cycle Index.\")\n"
   ]
  },
  {
   "cell_type": "code",
   "execution_count": 6,
   "id": "77adc74b",
   "metadata": {},
   "outputs": [],
   "source": [
    "# Answering question 5: What type of correlation does charging time and discharge time have?"
   ]
  },
  {
   "cell_type": "code",
   "execution_count": 86,
   "id": "7bc858e3",
   "metadata": {},
   "outputs": [
    {
     "name": "stdout",
     "output_type": "stream",
     "text": [
      "No matter how the two are plotted, discharge and charging time have a positve linear correlation but not a strong relationship.\n"
     ]
    },
    {
     "data": {
      "image/png": "[encoded data removed]",
      "text/plain": [
       "<Figure size 432x288 with 1 Axes>"
      ]
     },
     "metadata": {
      "needs_background": "light"
     },
     "output_type": "display_data"
    },
    {
     "data": {
      "image/png": "[encoded data removed]",
      "text/plain": [
       "<Figure size 432x288 with 1 Axes>"
      ]
     },
     "metadata": {
      "needs_background": "light"
     },
     "output_type": "display_data"
    }
   ],
   "source": [
    "updated_data.plot.scatter(x = 'Charging time (s)', y = 'Discharge Time (s)')\n",
    "updated_data.plot.scatter(x = 'Discharge Time (s)', y = 'Charging time (s)')\n",
    "\n",
    "print(\"No matter how the two are plotted, discharge and charging time have a positve linear correlation but not a strong relationship.\")"
   ]
  },
  {
   "cell_type": "code",
   "execution_count": 7,
   "id": "305f3d1e",
   "metadata": {},
   "outputs": [],
   "source": [
    "# Answering question 6: At what cycle does the RUL decrease?"
   ]
  },
  {
   "cell_type": "code",
   "execution_count": 87,
   "id": "65c2c678",
   "metadata": {},
   "outputs": [
    {
     "name": "stdout",
     "output_type": "stream",
     "text": [
      "Based on the scatter plot, the RUL decreases instantaneously at Cycle Index 0. This makes sense because there is no way to reverse the wear that cars experience the moment they turn on. It is just like how most passenger vehicles depreciate in value the moment the owner purchases them and takes them off the lot.\n"
     ]
    },
    {
     "data": {
      "image/png": "[encoded data removed]",
      "text/plain": [
       "<Figure size 432x288 with 1 Axes>"
      ]
     },
     "metadata": {
      "needs_background": "light"
     },
     "output_type": "display_data"
    }
   ],
   "source": [
    "battery_life_data.plot.scatter(x = 'Cycle_Index', y = 'RUL')\n",
    "\n",
    "print(\"Based on the scatter plot, the RUL decreases instantaneously at Cycle Index 0. This makes sense because there is no way to reverse the wear that cars experience the moment they turn on. It is just like how most passenger vehicles depreciate in value the moment the owner purchases them and takes them off the lot.\")"
   ]
  },
  {
   "cell_type": "code",
   "execution_count": 8,
   "id": "85d39c5d",
   "metadata": {},
   "outputs": [],
   "source": [
    "# Answering question 7:  "
   ]
  },
  {
   "cell_type": "code",
   "execution_count": 9,
   "id": "c23ac24e",
   "metadata": {},
   "outputs": [],
   "source": [
    "# Answering question 8: What is the average max voltage discharge?"
   ]
  },
  {
   "cell_type": "code",
   "execution_count": 37,
   "id": "f7de5dda",
   "metadata": {},
   "outputs": [
    {
     "name": "stdout",
     "output_type": "stream",
     "text": [
      "3.908\n"
     ]
    }
   ],
   "source": [
    "avg_max_volt_discharge = battery_life_data['Max. Voltage Dischar. (V)'].mean()\n",
    "print(avg_max_volt_discharge.round(3))"
   ]
  },
  {
   "cell_type": "code",
   "execution_count": 16,
   "id": "cd0d7106",
   "metadata": {},
   "outputs": [],
   "source": [
    "# Answering question 9: What is the average minimun voltage charge?"
   ]
  },
  {
   "cell_type": "code",
   "execution_count": 38,
   "id": "ecbd7549",
   "metadata": {},
   "outputs": [
    {
     "name": "stdout",
     "output_type": "stream",
     "text": [
      "3.578\n"
     ]
    }
   ],
   "source": [
    "avg_min_volt_charge = battery_life_data['Min. Voltage Charg. (V)'].mean()\n",
    "print(avg_min_volt_charge.round(3))"
   ]
  },
  {
   "cell_type": "code",
   "execution_count": 11,
   "id": "13f26f0d",
   "metadata": {},
   "outputs": [],
   "source": [
    "# Answering question 10: What type of regression does the data have?"
   ]
  },
  {
   "cell_type": "code",
   "execution_count": 61,
   "id": "19e815ea",
   "metadata": {},
   "outputs": [
    {
     "ename": "TypeError",
     "evalue": "PlotAccessor.scatter() missing 2 required positional arguments: 'x' and 'y'",
     "output_type": "error",
     "traceback": [
      "\u001b[1;31m---------------------------------------------------------------------------\u001b[0m",
      "\u001b[1;31mTypeError\u001b[0m                                 Traceback (most recent call last)",
      "Input \u001b[1;32mIn [61]\u001b[0m, in \u001b[0;36m<cell line: 1>\u001b[1;34m()\u001b[0m\n\u001b[1;32m----> 1\u001b[0m \u001b[43mbattery_life_data\u001b[49m\u001b[38;5;241;43m.\u001b[39;49m\u001b[43mplot\u001b[49m\u001b[38;5;241;43m.\u001b[39;49m\u001b[43mscatter\u001b[49m\u001b[43m(\u001b[49m\u001b[43m)\u001b[49m\n",
      "\u001b[1;31mTypeError\u001b[0m: PlotAccessor.scatter() missing 2 required positional arguments: 'x' and 'y'"
     ]
    }
   ],
   "source": [
    "battery_life_data.lmplot()"
   ]
  }
 ],
 "metadata": {
  "kernelspec": {
   "display_name": "Python 3 (ipykernel)",
   "language": "python",
   "name": "python3"
  },
  "language_info": {
   "codemirror_mode": {
    "name": "ipython",
    "version": 3
   },
   "file_extension": ".py",
   "mimetype": "text/x-python",
   "name": "python",
   "nbconvert_exporter": "python",
   "pygments_lexer": "ipython3",
   "version": "3.10.2"
  },
  "vscode": {
   "interpreter": {
    "hash": "44fb23a9d0cd6d7b986cfc014f899c66dad1f332fd29249a3a42440841172483"
   }
  }
 },
 "nbformat": 4,
 "nbformat_minor": 5
}
