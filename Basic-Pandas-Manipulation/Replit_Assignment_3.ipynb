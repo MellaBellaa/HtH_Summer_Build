{
 "cells": [
  {
   "cell_type": "code",
   "execution_count": 18,
   "id": "5b93fb95",
   "metadata": {},
   "outputs": [],
   "source": [
    "import pandas as pd\n",
    "\n",
    "pd.options.display.max_columns = None\n",
    "pd.options.display.max_rows = None\n",
    "\n",
    "# Step 1: Use the appropriate pandas method to read the titanic data into your python file \n",
    "titanic_data = pd.read_csv('titanic.csv')"
   ]
  },
  {
   "cell_type": "code",
   "execution_count": 3,
   "id": "9a2c2717",
   "metadata": {},
   "outputs": [],
   "source": [
    "# Step 2(a): Use the pandas method that reads the first 25 lines of the dataset\n",
    "first_25_passengers = titanic_data.head(25)\n"
   ]
  },
  {
   "cell_type": "code",
   "execution_count": 4,
   "id": "a0170837",
   "metadata": {},
   "outputs": [],
   "source": [
    "# Step 2(b): Use the pandas method thats reads the last 25 lines of the dataset\n",
    "last_25_passengers = titanic_data.tail(25)"
   ]
  },
  {
   "cell_type": "code",
   "execution_count": 5,
   "id": "66156d1d",
   "metadata": {},
   "outputs": [],
   "source": [
    "# Step 3: Use the pandas method that only tells us the number of rows and columns in our data\n",
    "titanic_shape = titanic_data.shape"
   ]
  },
  {
   "cell_type": "code",
   "execution_count": 6,
   "id": "2c859c21",
   "metadata": {},
   "outputs": [],
   "source": [
    "# Step 4: Describe the titanic data\n",
    "titanic_description = titanic_data.describe()"
   ]
  },
  {
   "cell_type": "code",
   "execution_count": 11,
   "id": "589c4aee",
   "metadata": {},
   "outputs": [],
   "source": [
    "\n",
    "# Step 5(a): How many passengers were between the ages of 0 to 16? \n",
    "children = [ (titanic_data['Age'] >= 0) & (titanic_data['Age'] <= 16) ]\n",
    "\n",
    "# Step 5(b): How many passengers were between the ages of 17 to 25?\n",
    "young_adults = [ (titanic_data['Age'] >= 17) & (titanic_data['Age'] <= 25) ]\n",
    "\n",
    "# Step 5(c): How many passengers were between the ages of 26 to 40?\n",
    "adults = [ (titanic_data['Age'] >= 26) & (titanic_data['Age'] <= 40) ] \n",
    "\n",
    "# Step 5(d): How many passengers were between the ages of 41 to 59?\n",
    "mature_adults = [ (titanic_data['Age'] >= 41) & (titanic_data['Age'] <= 59) ]"
   ]
  },
  {
   "cell_type": "code",
   "execution_count": 13,
   "id": "3d8a5f8a",
   "metadata": {},
   "outputs": [],
   "source": [
    "# Step 5(e): How many passengers were 60 or older?\n",
    "seniors = (titanic_data['Age'] > 60)\n"
   ]
  },
  {
   "cell_type": "code",
   "execution_count": 16,
   "id": "c40a8fea",
   "metadata": {},
   "outputs": [],
   "source": [
    "# Step 6: How many values are missing from the \"age\" column\n",
    "missing_ages = titanic_data.count()"
   ]
  },
  {
   "cell_type": "code",
   "execution_count": 20,
   "id": "dc14401d",
   "metadata": {},
   "outputs": [],
   "source": [
    "# Step 7: List out all the available passengers' ages\n",
    "age_list = titanic_data['Age'].count()"
   ]
  },
  {
   "cell_type": "code",
   "execution_count": 21,
   "id": "6833cf26",
   "metadata": {},
   "outputs": [],
   "source": [
    "# Step 9(a): Find the average age of all female passengers\n",
    "avg_fem_age = titanic_data[ titanic_data['Sex'] == 'female']['Age'].mean()"
   ]
  },
  {
   "cell_type": "code",
   "execution_count": 1,
   "id": "6f6b09d1",
   "metadata": {},
   "outputs": [
    {
     "ename": "NameError",
     "evalue": "name 'titanic_data' is not defined",
     "output_type": "error",
     "traceback": [
      "\u001b[1;31m---------------------------------------------------------------------------\u001b[0m",
      "\u001b[1;31mNameError\u001b[0m                                 Traceback (most recent call last)",
      "Input \u001b[1;32mIn [1]\u001b[0m, in \u001b[0;36m<cell line: 2>\u001b[1;34m()\u001b[0m\n\u001b[0;32m      1\u001b[0m \u001b[38;5;66;03m# Step 10(a): Find the survival percentage of passengers in group \"C\"\u001b[39;00m\n\u001b[1;32m----> 2\u001b[0m total_cherbourg_passengers \u001b[38;5;241m=\u001b[39m \u001b[43mtitanic_data\u001b[49m[ titanic_data[\u001b[38;5;124m'\u001b[39m\u001b[38;5;124mEmbarked\u001b[39m\u001b[38;5;124m'\u001b[39m] \u001b[38;5;241m==\u001b[39m \u001b[38;5;124m'\u001b[39m\u001b[38;5;124mC\u001b[39m\u001b[38;5;124m'\u001b[39m]\u001b[38;5;241m.\u001b[39mcount()\n\u001b[0;32m      4\u001b[0m survived_cherbourg_passengers \u001b[38;5;241m=\u001b[39m titanic_data[ titanic_data[\u001b[38;5;124m'\u001b[39m\u001b[38;5;124mEmbarked\u001b[39m\u001b[38;5;124m'\u001b[39m] \u001b[38;5;241m==\u001b[39m \u001b[38;5;124m'\u001b[39m\u001b[38;5;124mC\u001b[39m\u001b[38;5;124m'\u001b[39m][\u001b[38;5;124m'\u001b[39m\u001b[38;5;124mSurvived\u001b[39m\u001b[38;5;124m'\u001b[39m]\u001b[38;5;241m.\u001b[39mcount()\n\u001b[0;32m      6\u001b[0m cherbourg_survival \u001b[38;5;241m=\u001b[39m survived_cherbourg_passengers \u001b[38;5;241m/\u001b[39m total_cherbourg_passengers\n",
      "\u001b[1;31mNameError\u001b[0m: name 'titanic_data' is not defined"
     ]
    }
   ],
   "source": [
    "# Step 10(a): Find the survival percentage of passengers in group \"C\"\n",
    "total_cherbourg_passengers = titanic_data[ titanic_data['Embarked'] == 'C'].count()\n",
    "\n",
    "survived_cherbourg_passengers = titanic_data[ titanic_data['Embarked'] == 'C']['Survived'].count()\n",
    "\n",
    "cherbourg_survival = survived_cherbourg_passengers / total_cherbourg_passengers\n",
    "\n",
    "# Step 10(b): Find the survival percentage of passengers in group \"Q\"\n",
    "total_queenstown_passengers = titanic_data[ titanic_data['Embarked'] == 'Q'].count()\n",
    "\n",
    "survived_queenstown_passengers = titanic_data[ titanic_data['Embarked'] == 'Q']['Survived'].count()\n",
    "\n",
    "queenstown_survival = total_queenstown_passengers / survived_queenstown_passengers\n",
    "\n",
    "# Step 10(c): Find the survival percentage of passengers in group \"S\"\n",
    "south_survival =  (titanic_data[ titanic_data['Embarked'] == 'S']['Survived'].count())/ (titanic_data[ titanic_data['Embarked'] == 'S'].count())"
   ]
  },
  {
   "cell_type": "code",
   "execution_count": 3,
   "id": "3908d0d8",
   "metadata": {},
   "outputs": [],
   "source": [
    "import pandas as pd\n",
    "\n",
    "''' When going through the assignment, keep in mind that to actually see these variables you need to use python's print() statement to see their values printed out in replit's console \n",
    "'''\n",
    "pd.options.display.max_columns = None\n",
    "pd.options.display.max_rows = None\n",
    "\n",
    "# Step 1: Use the appropriate pandas method to read the titanic data into your python file \n",
    "titanic_data = pd.read_csv('titanic.csv')\n",
    "\n",
    "# Step 2(a): Use the pandas method that reads the first 25 lines of the dataset\n",
    "first_25_passengers = titanic_data.head(25)\n",
    "\n",
    "# Step 2(b): Use the pandas method thats reads the last 25 lines of the dataset\n",
    "last_25_passengers = titanic_data.tail(25)\n",
    "\n",
    "# Step 3: Use the pandas method that only tells us the number of rows and columns in our data\n",
    "titanic_shape = titanic_data.shape\n",
    "\n",
    "# Step 4: Describe the titanic data\n",
    "titanic_description = titanic_data.describe()\n",
    "\n",
    "\n",
    "# Step 5(a): How many passengers were between the ages of 0 to 16? \n",
    "children = [ (titanic_data['Age'] >= 0) & (titanic_data['Age'] <= 16) ]\n",
    "\n",
    "\n",
    "# Step 5(b): How many passengers were between the ages of 17 to 25?\n",
    "young_adults = [ (titanic_data['Age'] >= 17) & (titanic_data['Age'] <= 25) ]\n",
    "\n",
    "# Step 5(c): How many passengers were between the ages of 26 to 40?\n",
    "adults = [ (titanic_data['Age'] >= 26) & (titanic_data['Age'] <= 40) ] \n",
    "\n",
    "# Step 5(d): How many passengers were between the ages of 41 to 59?\n",
    "mature_adults = [ (titanic_data['Age'] >= 41) & (titanic_data['Age'] <= 59) ]\n",
    "\n",
    "\n",
    "# Step 5(e): How many passengers were 60 or older?\n",
    "seniors = (titanic_data['Age'] > 60)\n",
    "\n",
    "# Step 6: How many values are missing from the \"age\" column\n",
    "missing_ages = titanic_data.isna()['Age'].sum()\n",
    "\n",
    "# Step 7: List out all the available passengers' ages\n",
    "age_list = titanic_data['Age'].count()\n",
    "\n",
    "# Step 8: Filter the DataFrame to find all passengers who boarded the Titanic at Port Cherbourg\n",
    "cherbourg_passengers = titanic_data[ titanic_data['Embarked'] == 'C']\n",
    "\n",
    "# Step 9(a): Find the average age of all female passengers\n",
    "avg_fem_age = titanic_data[ titanic_data['Sex'] == 'female']['Age'].mean()\n",
    "\n",
    "# Step 9(b): Find the average age of all male passengers\n",
    "avg_male_age = titanic_data[ titanic_data['Sex'] == 'male']['Age'].mean()\n",
    "\n",
    "# Step 10(a): Find the survival percentage of passengers in group \"C\"\n",
    "total_cherbourg_passengers = titanic_data[ titanic_data['Embarked'] == 'C'].count()\n",
    "\n",
    "survived_cherbourg_passengers = titanic_data[ titanic_data['Embarked'] == 'C']['Survived'].count()\n",
    "\n",
    "cherbourg_survival = survived_cherbourg_passengers / total_cherbourg_passengers\n",
    "\n",
    "# Step 10(b): Find the survival percentage of passengers in group \"Q\"\n",
    "total_queenstown_passengers = titanic_data[ titanic_data['Embarked'] == 'Q'].count()\n",
    "\n",
    "survived_queenstown_passengers = titanic_data[ titanic_data['Embarked'] == 'Q']['Survived'].count()\n",
    "\n",
    "queenstown_survival = total_queenstown_passengers / survived_queenstown_passengers\n",
    "\n",
    "# Step 10(c): Find the survival percentage of passengers in group \"S\"\n",
    "south_survival =  (titanic_data[ titanic_data['Embarked'] == 'S']['Survived'].count())/ (titanic_data[ titanic_data['Embarked'] == 'S'].count())\n",
    "\n",
    "\n"
   ]
  },
  {
   "cell_type": "code",
   "execution_count": null,
   "id": "f13290a3",
   "metadata": {},
   "outputs": [],
   "source": []
  }
 ],
 "metadata": {
  "kernelspec": {
   "display_name": "Python 3 (ipykernel)",
   "language": "python",
   "name": "python3"
  },
  "language_info": {
   "codemirror_mode": {
    "name": "ipython",
    "version": 3
   },
   "file_extension": ".py",
   "mimetype": "text/x-python",
   "name": "python",
   "nbconvert_exporter": "python",
   "pygments_lexer": "ipython3",
   "version": "3.10.2"
  }
 },
 "nbformat": 4,
 "nbformat_minor": 5
}
